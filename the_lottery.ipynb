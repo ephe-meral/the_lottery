{
 "cells": [
  {
   "cell_type": "markdown",
   "id": "24651828",
   "metadata": {},
   "source": [
    "### The lottery is no-risk gamble based on Bitcoin\n",
    "\n",
    "Generate some keys and check the balance."
   ]
  },
  {
   "cell_type": "code",
   "execution_count": null,
   "id": "193d3508",
   "metadata": {},
   "outputs": [],
   "source": [
    "import requests\n",
    "from bitcoinlib.keys import Key\n",
    "from bitcoinlib.services.services import Service\n",
    "from multiprocessing.pool import ThreadPool as Pool"
   ]
  },
  {
   "cell_type": "code",
   "execution_count": null,
   "id": "8dfef0e3",
   "metadata": {},
   "outputs": [],
   "source": [
    "pool = Pool(100)"
   ]
  },
  {
   "cell_type": "code",
   "execution_count": null,
   "id": "5070c083",
   "metadata": {},
   "outputs": [],
   "source": [
    "def gen_keys():\n",
    "    key = Key()\n",
    "    return (key.private_hex, key.public_hex, key.address())"
   ]
  },
  {
   "cell_type": "code",
   "execution_count": null,
   "id": "f9fba8ca",
   "metadata": {},
   "outputs": [],
   "source": [
    "def get_balance(addr, providers=[]):\n",
    "    return Service(providers=providers).getbalance([addr]) / (10**8)\n",
    "\n",
    "def get_balance(addr):\n",
    "    res = requests.get(f'https://blockstream.info/api/address/{addr}').json()\n",
    "    btc = (res['chain_stats']['funded_txo_sum'] - res['chain_stats']['spent_txo_sum']) / 10**8\n",
    "    csh = (res['mempool_stats']['funded_txo_sum'] - res['mempool_stats']['spent_txo_sum']) / 10**8\n",
    "    return (btc, csh)"
   ]
  },
  {
   "cell_type": "code",
   "execution_count": null,
   "id": "db0074fb",
   "metadata": {},
   "outputs": [],
   "source": [
    "def get_lottery_entry():\n",
    "    (priv, pub, addr) = gen_keys()\n",
    "    bal_btc, bal_csh = get_balance(addr)\n",
    "    return (priv, pub, addr, bal_btc, bal_csh)"
   ]
  },
  {
   "cell_type": "code",
   "execution_count": null,
   "id": "048134d0",
   "metadata": {},
   "outputs": [],
   "source": [
    "def lottery(n):\n",
    "    def exec_lot(_):\n",
    "        res = get_lottery_entry()\n",
    "        print('.', end='')\n",
    "        return res\n",
    "    res = pool.map(exec_lot, range(0, n))\n",
    "    print('')\n",
    "    return res"
   ]
  },
  {
   "cell_type": "code",
   "execution_count": null,
   "id": "50405473",
   "metadata": {},
   "outputs": [],
   "source": [
    "def lottery_pretty(n):\n",
    "    print(f'You are drawing {n} lottery tickets (chance to win: ~1/(10^240ish))')\n",
    "    res = lottery(n)\n",
    "    (privs, pubs, addrs, bal_btc, bal_csh) = zip(*res)\n",
    "    tot_bal = sum(bal_btc) + sum(bal_csh)\n",
    "    if tot_bal:\n",
    "        win_details = [x for x in res if x[3]]\n",
    "        print(f'Wow! You actually won! You get {tot_bal} btc!')\n",
    "        for det in win_details:\n",
    "            print(f'Use the following data:')\n",
    "            print(f'Private key:', det[0])\n",
    "            print(f'Public key:', det[1])\n",
    "            print(f'Address:', det[2])\n",
    "            print(f'Balance: {det[4]} btc / {det[5]} csh')\n",
    "    else:\n",
    "        print(f'Sadly no win. Better luck next time!')"
   ]
  },
  {
   "cell_type": "code",
   "execution_count": null,
   "id": "cee987fa",
   "metadata": {},
   "outputs": [],
   "source": [
    "lottery_pretty(10)"
   ]
  },
  {
   "cell_type": "code",
   "execution_count": null,
   "id": "22371051",
   "metadata": {},
   "outputs": [],
   "source": [
    "test = Key('b5e4f7ad4607200c8d07eb1295cf4d9d00f06f7b32edc475dfbaa72abc7a9705')"
   ]
  },
  {
   "cell_type": "code",
   "execution_count": null,
   "id": "d1422b38",
   "metadata": {},
   "outputs": [],
   "source": [
    "(test.private_hex, test.public_hex, test.address())"
   ]
  },
  {
   "cell_type": "code",
   "execution_count": null,
   "id": "57beb383",
   "metadata": {},
   "outputs": [],
   "source": []
  }
 ],
 "metadata": {
  "kernelspec": {
   "display_name": "Python 3 (ipykernel)",
   "language": "python",
   "name": "python3"
  },
  "language_info": {
   "codemirror_mode": {
    "name": "ipython",
    "version": 3
   },
   "file_extension": ".py",
   "mimetype": "text/x-python",
   "name": "python",
   "nbconvert_exporter": "python",
   "pygments_lexer": "ipython3",
   "version": "3.9.9"
  }
 },
 "nbformat": 4,
 "nbformat_minor": 5
}
